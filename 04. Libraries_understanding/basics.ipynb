{
 "cells": [
  {
   "cell_type": "code",
   "execution_count": 14,
   "metadata": {},
   "outputs": [],
   "source": [
    "import pandas as pd \n",
    "# pandas is equlivalant to sql for python. Sql already exists for python but pandas is more suited for AI work \n",
    "# in the field of we use table a lot and to teach the model we use table\n",
    "# SQL is more detail"
   ]
  },
  {
   "cell_type": "markdown",
   "metadata": {},
   "source": [
    "Pandas Package\n",
    "    - Work on table, read table , modifiy table, save table and everything related to table, csv, excel file read, save. \n",
    "    - Data rangling tool formating tool\n",
    "    - Pandas can also store in new CSV and can work same as SQL, export to csv and save as a database\n",
    "    - SQL is also used for query run for database. Pandas also do the same work as SQL and save in a CSV file\n",
    "    - In AI task we need to look up pattern from a table\n",
    "    - Make data format ready is the work of pandas and pass it to AI algorythm\n",
    "    "
   ]
  },
  {
   "cell_type": "code",
   "execution_count": 28,
   "metadata": {},
   "outputs": [
    {
     "name": "stdout",
     "output_type": "stream",
     "text": [
      "{'Student': ['Ram', 'Shyam', 'Sita', 'Geeta'], 'Marks': [10, 20, 30, 40]}\n"
     ]
    }
   ],
   "source": [
    "dic_var = {\n",
    "    'Student':['Ram', 'Shyam', 'Sita', 'Geeta'],\n",
    "    'Marks' : [10,20,30,40]\n",
    "}\n",
    "print(dic_var)\n"
   ]
  },
  {
   "cell_type": "code",
   "execution_count": 29,
   "metadata": {},
   "outputs": [
    {
     "name": "stdout",
     "output_type": "stream",
     "text": [
      "Before adding new column: \n"
     ]
    },
    {
     "data": {
      "text/html": [
       "<div>\n",
       "<style scoped>\n",
       "    .dataframe tbody tr th:only-of-type {\n",
       "        vertical-align: middle;\n",
       "    }\n",
       "\n",
       "    .dataframe tbody tr th {\n",
       "        vertical-align: top;\n",
       "    }\n",
       "\n",
       "    .dataframe thead th {\n",
       "        text-align: right;\n",
       "    }\n",
       "</style>\n",
       "<table border=\"1\" class=\"dataframe\">\n",
       "  <thead>\n",
       "    <tr style=\"text-align: right;\">\n",
       "      <th></th>\n",
       "      <th>Student</th>\n",
       "      <th>Marks</th>\n",
       "    </tr>\n",
       "  </thead>\n",
       "  <tbody>\n",
       "    <tr>\n",
       "      <th>0</th>\n",
       "      <td>Ram</td>\n",
       "      <td>10</td>\n",
       "    </tr>\n",
       "    <tr>\n",
       "      <th>1</th>\n",
       "      <td>Shyam</td>\n",
       "      <td>20</td>\n",
       "    </tr>\n",
       "    <tr>\n",
       "      <th>2</th>\n",
       "      <td>Sita</td>\n",
       "      <td>30</td>\n",
       "    </tr>\n",
       "    <tr>\n",
       "      <th>3</th>\n",
       "      <td>Geeta</td>\n",
       "      <td>40</td>\n",
       "    </tr>\n",
       "  </tbody>\n",
       "</table>\n",
       "</div>"
      ],
      "text/plain": [
       "  Student  Marks\n",
       "0     Ram     10\n",
       "1   Shyam     20\n",
       "2    Sita     30\n",
       "3   Geeta     40"
      ]
     },
     "execution_count": 29,
     "metadata": {},
     "output_type": "execute_result"
    }
   ],
   "source": [
    "# convert the dictionary in a table from pandas\n",
    "# Pandas operation 1:\n",
    "# see tutorials and documentation\n",
    "data_frame_var = pd.DataFrame(dic_var) # from pd library use dataframe class or pd object use the dataframe method\n",
    "# higher level abstraction convert dictionary to dataframe(table)\n",
    "print('Before adding new column: ')\n",
    "data_frame_var# now the dictionary converted into a table "
   ]
  },
  {
   "cell_type": "code",
   "execution_count": 30,
   "metadata": {},
   "outputs": [
    {
     "name": "stdout",
     "output_type": "stream",
     "text": [
      "After adding new column Social Skills\n"
     ]
    },
    {
     "data": {
      "text/html": [
       "<div>\n",
       "<style scoped>\n",
       "    .dataframe tbody tr th:only-of-type {\n",
       "        vertical-align: middle;\n",
       "    }\n",
       "\n",
       "    .dataframe tbody tr th {\n",
       "        vertical-align: top;\n",
       "    }\n",
       "\n",
       "    .dataframe thead th {\n",
       "        text-align: right;\n",
       "    }\n",
       "</style>\n",
       "<table border=\"1\" class=\"dataframe\">\n",
       "  <thead>\n",
       "    <tr style=\"text-align: right;\">\n",
       "      <th></th>\n",
       "      <th>Student</th>\n",
       "      <th>Marks</th>\n",
       "      <th>Social Skills</th>\n",
       "    </tr>\n",
       "  </thead>\n",
       "  <tbody>\n",
       "    <tr>\n",
       "      <th>0</th>\n",
       "      <td>Ram</td>\n",
       "      <td>10</td>\n",
       "      <td>10</td>\n",
       "    </tr>\n",
       "    <tr>\n",
       "      <th>1</th>\n",
       "      <td>Shyam</td>\n",
       "      <td>20</td>\n",
       "      <td>20</td>\n",
       "    </tr>\n",
       "    <tr>\n",
       "      <th>2</th>\n",
       "      <td>Sita</td>\n",
       "      <td>30</td>\n",
       "      <td>30</td>\n",
       "    </tr>\n",
       "    <tr>\n",
       "      <th>3</th>\n",
       "      <td>Geeta</td>\n",
       "      <td>40</td>\n",
       "      <td>40</td>\n",
       "    </tr>\n",
       "  </tbody>\n",
       "</table>\n",
       "</div>"
      ],
      "text/plain": [
       "  Student  Marks  Social Skills\n",
       "0     Ram     10             10\n",
       "1   Shyam     20             20\n",
       "2    Sita     30             30\n",
       "3   Geeta     40             40"
      ]
     },
     "execution_count": 30,
     "metadata": {},
     "output_type": "execute_result"
    }
   ],
   "source": [
    "# adding new column\n",
    "print('After adding new column Social Skills')\n",
    "data_frame_var['Social Skills'] = [10,20,30,40]\n",
    "data_frame_var"
   ]
  },
  {
   "cell_type": "code",
   "execution_count": 31,
   "metadata": {},
   "outputs": [
    {
     "name": "stdout",
     "output_type": "stream",
     "text": [
      "After droping the column: \n"
     ]
    },
    {
     "data": {
      "text/html": [
       "<div>\n",
       "<style scoped>\n",
       "    .dataframe tbody tr th:only-of-type {\n",
       "        vertical-align: middle;\n",
       "    }\n",
       "\n",
       "    .dataframe tbody tr th {\n",
       "        vertical-align: top;\n",
       "    }\n",
       "\n",
       "    .dataframe thead th {\n",
       "        text-align: right;\n",
       "    }\n",
       "</style>\n",
       "<table border=\"1\" class=\"dataframe\">\n",
       "  <thead>\n",
       "    <tr style=\"text-align: right;\">\n",
       "      <th></th>\n",
       "      <th>Student</th>\n",
       "      <th>Marks</th>\n",
       "    </tr>\n",
       "  </thead>\n",
       "  <tbody>\n",
       "    <tr>\n",
       "      <th>0</th>\n",
       "      <td>Ram</td>\n",
       "      <td>10</td>\n",
       "    </tr>\n",
       "    <tr>\n",
       "      <th>1</th>\n",
       "      <td>Shyam</td>\n",
       "      <td>20</td>\n",
       "    </tr>\n",
       "    <tr>\n",
       "      <th>2</th>\n",
       "      <td>Sita</td>\n",
       "      <td>30</td>\n",
       "    </tr>\n",
       "    <tr>\n",
       "      <th>3</th>\n",
       "      <td>Geeta</td>\n",
       "      <td>40</td>\n",
       "    </tr>\n",
       "  </tbody>\n",
       "</table>\n",
       "</div>"
      ],
      "text/plain": [
       "  Student  Marks\n",
       "0     Ram     10\n",
       "1   Shyam     20\n",
       "2    Sita     30\n",
       "3   Geeta     40"
      ]
     },
     "execution_count": 31,
     "metadata": {},
     "output_type": "execute_result"
    }
   ],
   "source": [
    "# removing column !!\n",
    "print('After droping the column: ')\n",
    "data_frame_var = data_frame_var.drop(columns=['Social Skills'])\n",
    "data_frame_var"
   ]
  },
  {
   "cell_type": "code",
   "execution_count": 34,
   "metadata": {},
   "outputs": [
    {
     "name": "stdout",
     "output_type": "stream",
     "text": [
      "  Student  Marks\n",
      "0     Ram     10\n",
      "1   Shyam     20\n",
      "2    Sita     30\n",
      "3   Geeta     40\n",
      "\n",
      "After the change\n",
      "\n"
     ]
    },
    {
     "data": {
      "text/html": [
       "<div>\n",
       "<style scoped>\n",
       "    .dataframe tbody tr th:only-of-type {\n",
       "        vertical-align: middle;\n",
       "    }\n",
       "\n",
       "    .dataframe tbody tr th {\n",
       "        vertical-align: top;\n",
       "    }\n",
       "\n",
       "    .dataframe thead th {\n",
       "        text-align: right;\n",
       "    }\n",
       "</style>\n",
       "<table border=\"1\" class=\"dataframe\">\n",
       "  <thead>\n",
       "    <tr style=\"text-align: right;\">\n",
       "      <th></th>\n",
       "      <th>Student</th>\n",
       "      <th>Marks</th>\n",
       "    </tr>\n",
       "  </thead>\n",
       "  <tbody>\n",
       "    <tr>\n",
       "      <th>0</th>\n",
       "      <td>Ram</td>\n",
       "      <td>10</td>\n",
       "    </tr>\n",
       "    <tr>\n",
       "      <th>1</th>\n",
       "      <td>Shyam</td>\n",
       "      <td>20</td>\n",
       "    </tr>\n",
       "    <tr>\n",
       "      <th>2</th>\n",
       "      <td>Sita</td>\n",
       "      <td>30</td>\n",
       "    </tr>\n",
       "  </tbody>\n",
       "</table>\n",
       "</div>"
      ],
      "text/plain": [
       "  Student  Marks\n",
       "0     Ram     10\n",
       "1   Shyam     20\n",
       "2    Sita     30"
      ]
     },
     "execution_count": 34,
     "metadata": {},
     "output_type": "execute_result"
    }
   ],
   "source": [
    "# Looking up certain row\n",
    "# SQL select *  where <- type of condition\n",
    "# loc and iloc (index locate) in pandas to look up certain rows \n",
    "print(data_frame_var)\n",
    "print('\\nAfter the change\\n')\n",
    "data_frame_var.loc[data_frame_var['Marks']<=32] #data frame table(data_frame_var) locate the condition ie data frame variable of \"Marks\" column where marks<=32\n",
    "# the above uses a print statement "
   ]
  },
  {
   "cell_type": "code",
   "execution_count": 40,
   "metadata": {},
   "outputs": [],
   "source": [
    "# we can also save file to excel, csv \n",
    "# saving data frame to csv\n",
    "data_frame_var.to_csv('Data.csv', index = False) #standard is csv and index 0 is remove index"
   ]
  },
  {
   "cell_type": "code",
   "execution_count": 43,
   "metadata": {},
   "outputs": [
    {
     "name": "stdout",
     "output_type": "stream",
     "text": [
      "Loaded from csv\n",
      "  Student  Marks\n",
      "0     Ram     10\n",
      "1   Shyam     20\n",
      "2    Sita     30\n",
      "3   Geeta     40\n"
     ]
    }
   ],
   "source": [
    "#loading from csv / reading from csv\n",
    "new_dataframe_csv = pd.read_csv('/Users/Uttam/Documents/hackademia/Libraries_understanding/Data.csv') # absolute path of the file can also take relative path \n",
    "print(f'Loaded from csv\\n{new_dataframe_csv}') # index are used for .iloc\n"
   ]
  },
  {
   "cell_type": "code",
   "execution_count": 49,
   "metadata": {},
   "outputs": [
    {
     "name": "stdout",
     "output_type": "stream",
     "text": [
      "0      Ram\n",
      "1    Shyam\n",
      "2     Sita\n",
      "3    Geeta\n",
      "Name: Student, dtype: object\n",
      "--------------------------------------------------\n"
     ]
    },
    {
     "data": {
      "text/html": [
       "<div>\n",
       "<style scoped>\n",
       "    .dataframe tbody tr th:only-of-type {\n",
       "        vertical-align: middle;\n",
       "    }\n",
       "\n",
       "    .dataframe tbody tr th {\n",
       "        vertical-align: top;\n",
       "    }\n",
       "\n",
       "    .dataframe thead th {\n",
       "        text-align: right;\n",
       "    }\n",
       "</style>\n",
       "<table border=\"1\" class=\"dataframe\">\n",
       "  <thead>\n",
       "    <tr style=\"text-align: right;\">\n",
       "      <th></th>\n",
       "      <th>Student</th>\n",
       "      <th>Marks</th>\n",
       "    </tr>\n",
       "  </thead>\n",
       "  <tbody>\n",
       "    <tr>\n",
       "      <th>0</th>\n",
       "      <td>Ram</td>\n",
       "      <td>10</td>\n",
       "    </tr>\n",
       "    <tr>\n",
       "      <th>1</th>\n",
       "      <td>Shyam</td>\n",
       "      <td>20</td>\n",
       "    </tr>\n",
       "  </tbody>\n",
       "</table>\n",
       "</div>"
      ],
      "text/plain": [
       "  Student  Marks\n",
       "0     Ram     10\n",
       "1   Shyam     20"
      ]
     },
     "execution_count": 49,
     "metadata": {},
     "output_type": "execute_result"
    }
   ],
   "source": [
    "# show the column\n",
    "print(new_dataframe_csv['Student']) #shows the info of the entire column\n",
    "print('--'*25)\n",
    "# using the index to see rows\n",
    "new_dataframe_csv.iloc[1] # index locator to see the row on the basis or the row \n",
    "# writing two condition \n",
    "new_dataframe_csv.loc[(new_dataframe_csv['Student']== 'Ram') | (new_dataframe_csv['Marks'] == 20)]\n",
    "# | = or , & = and "
   ]
  },
  {
   "cell_type": "markdown",
   "metadata": {},
   "source": [
    "Task 1:\n",
    "    Take N from user (N = number of question)\n",
    "    Get N number of question and n number of answers for a quiz\n",
    "    collect all question in question_list and answer in answer_list\n",
    "    conver it to dictionary \n",
    "    convert it to data frame \n",
    "    display the final table"
   ]
  },
  {
   "cell_type": "code",
   "execution_count": 26,
   "metadata": {},
   "outputs": [
    {
     "data": {
      "text/html": [
       "<div>\n",
       "<style scoped>\n",
       "    .dataframe tbody tr th:only-of-type {\n",
       "        vertical-align: middle;\n",
       "    }\n",
       "\n",
       "    .dataframe tbody tr th {\n",
       "        vertical-align: top;\n",
       "    }\n",
       "\n",
       "    .dataframe thead th {\n",
       "        text-align: right;\n",
       "    }\n",
       "</style>\n",
       "<table border=\"1\" class=\"dataframe\">\n",
       "  <thead>\n",
       "    <tr style=\"text-align: right;\">\n",
       "      <th></th>\n",
       "      <th>question</th>\n",
       "      <th>answer</th>\n",
       "    </tr>\n",
       "  </thead>\n",
       "  <tbody>\n",
       "    <tr>\n",
       "      <th>0</th>\n",
       "      <td>What is the capital of Nepal?</td>\n",
       "      <td>Kathmandu</td>\n",
       "    </tr>\n",
       "    <tr>\n",
       "      <th>1</th>\n",
       "      <td>What is the capital of India?</td>\n",
       "      <td>New dheli</td>\n",
       "    </tr>\n",
       "    <tr>\n",
       "      <th>2</th>\n",
       "      <td>how many bones are there in human?</td>\n",
       "      <td>108</td>\n",
       "    </tr>\n",
       "    <tr>\n",
       "      <th>3</th>\n",
       "      <td>When is dashain?</td>\n",
       "      <td>On thursday</td>\n",
       "    </tr>\n",
       "    <tr>\n",
       "      <th>4</th>\n",
       "      <td>Is this a game?</td>\n",
       "      <td>Yes</td>\n",
       "    </tr>\n",
       "  </tbody>\n",
       "</table>\n",
       "</div>"
      ],
      "text/plain": [
       "                             question       answer\n",
       "0       What is the capital of Nepal?    Kathmandu\n",
       "1      What is the capital of India?     New dheli\n",
       "2  how many bones are there in human?          108\n",
       "3                    When is dashain?  On thursday\n",
       "4                     Is this a game?          Yes"
      ]
     },
     "execution_count": 26,
     "metadata": {},
     "output_type": "execute_result"
    }
   ],
   "source": [
    "n = int(input('enter the number of question '))\n",
    "question1 = []\n",
    "answer1 = []\n",
    "dict_of_qa = {\n",
    "    'question' : [],\n",
    "    'answer' : []\n",
    "}\n",
    "# creating the question from user\n",
    "for _ in range(1,n+1):\n",
    "    question = input('Enter a question: ')\n",
    "    answer = input('Enter a answer: ')\n",
    "    question1.append(question)\n",
    "    answer1.append(answer)\n",
    "# appending the question and answer to the dictionary\n",
    "dict_of_qa['question'] = question1\n",
    "dict_of_qa['answer'] = answer1\n",
    "\n",
    "#create a data frame\n",
    "data_frame_qa = pd.DataFrame(dict_of_qa)\n",
    "data_frame_qa"
   ]
  },
  {
   "cell_type": "markdown",
   "metadata": {},
   "source": [
    "Task 2:\n",
    "In the previous table include this question complusory:\n",
    "    what is the capital city of Nepal : KTM\n",
    "    \n",
    "    Look up only the row with this question : \"what is the capital city of Nepal\"\n"
   ]
  },
  {
   "cell_type": "code",
   "execution_count": 39,
   "metadata": {},
   "outputs": [
    {
     "data": {
      "text/html": [
       "<div>\n",
       "<style scoped>\n",
       "    .dataframe tbody tr th:only-of-type {\n",
       "        vertical-align: middle;\n",
       "    }\n",
       "\n",
       "    .dataframe tbody tr th {\n",
       "        vertical-align: top;\n",
       "    }\n",
       "\n",
       "    .dataframe thead th {\n",
       "        text-align: right;\n",
       "    }\n",
       "</style>\n",
       "<table border=\"1\" class=\"dataframe\">\n",
       "  <thead>\n",
       "    <tr style=\"text-align: right;\">\n",
       "      <th></th>\n",
       "      <th>question</th>\n",
       "      <th>answer</th>\n",
       "    </tr>\n",
       "  </thead>\n",
       "  <tbody>\n",
       "    <tr>\n",
       "      <th>0</th>\n",
       "      <td>What is the capital of Nepal?</td>\n",
       "      <td>Kathmandu</td>\n",
       "    </tr>\n",
       "  </tbody>\n",
       "</table>\n",
       "</div>"
      ],
      "text/plain": [
       "                        question     answer\n",
       "0  What is the capital of Nepal?  Kathmandu"
      ]
     },
     "execution_count": 39,
     "metadata": {},
     "output_type": "execute_result"
    }
   ],
   "source": [
    "# only selecting the needed rows\n",
    "Nepal = data_frame_qa.loc[data_frame_qa['question'] == 'What is the capital of Nepal?'] # when saved in a new variable then a new data frame is created\n",
    "# this is helpful to create different sub table and save the table elsewhere\n",
    "\n",
    "Nepal"
   ]
  }
 ],
 "metadata": {
  "kernelspec": {
   "display_name": "Python 3 (ipykernel)",
   "language": "python",
   "name": "python3"
  }
 },
 "nbformat": 4,
 "nbformat_minor": 2
}
