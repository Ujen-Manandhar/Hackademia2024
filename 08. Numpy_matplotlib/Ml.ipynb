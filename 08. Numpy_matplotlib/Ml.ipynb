{
 "cells": [
  {
   "cell_type": "markdown",
   "metadata": {},
   "source": [
    "### Machine learning \n",
    "<img src= 'https://encrypted-tbn0.gstatic.com/images?q=tbn:ANd9GcTs_RTivGnEPGcYaTOXbLnXZ4k9RZWrUHRh-g&s' >\n",
    "<hr>\n",
    "<p> Inside AI everything is included Machine learning to all</p>\n",
    "<p> The main part is machine learing </p>\n",
    "We give input and a rule and gives output in traditional programming upon the basis of rule.<br/>\n",
    "<p>In machine learning we give input and the get output and automatically the computer gives output on the basis of the dataset which determines the rule and make sense from the data set it determinse rule and the rule is output. Reconize pattern by the machine itself.</p>\n",
    "<p>From input and output reconize output through reconizing rules; like training model on dataset of dog and cat to get output dog or cat on the basis of rule and pattern reconized.</p>\n"
   ]
  },
  {
   "cell_type": "markdown",
   "metadata": {},
   "source": [
    "##### Artifical neural networks (ANN) and Deep Learning\n",
    "<hr>\n",
    "<p>Inside machine learning there is ANN that focuses upon Brain-inspired machine learning models(input dherai chalayuna pardeina), and Deep learning which focuses upon diagonis of the problem itself ANN focus upon images to learn to figure shapes and patterns</p>\n",
    "<p>How neuron works similar algorythm is used </p>\n",
    "<hr>\n",
    "<p>Deep learning is a subset of ANN; and follow artectucture of ANN; the main difference between Ml and Deep learning is in ML input needs to be proper only integer or text (5), in Dl and ANN input needs not to be proper can be audio, symbol, image, anything of the number (5). Dl is more complex as algo are very hard</p>\n",
    "<hr>\n",
    "<p>Simply we need a lot of data and the best algorthm; Deeplearning use tensorflow, scktlearn for machine learning</p>\n"
   ]
  },
  {
   "cell_type": "markdown",
   "metadata": {},
   "source": [
    "### Types of Machine learning \n",
    "<img src= 'https://www.researchgate.net/publication/373535780/figure/fig1/AS:11431281184926528@1693489593190/Types-of-machine-learning-Machine-learning-encompasses-three-main-types-supervised.png' >"
   ]
  },
  {
   "cell_type": "markdown",
   "metadata": {},
   "source": [
    "1. Supervised Learning \n",
    "<p>Give input with output to the model eg: 5 is input and 5 is odd (output) this is supervised learning. Easiest. Tell the program what everything is like telling a baby. Telling a baby by showing a duster and marker and telling the baby what they are and the baby can classiy by themself after various showing of the duster and marker.The dataset only take space. Dataset heavy model only save state. </p>\n",
    "\n",
    "2. Unsupervised Learning\n",
    "<p>Give marker and marker along with duster and duster and keep similar objects together is said to the baby. The baby isn't told what is a duster and what is a marker. And baby only understands the featurs and group the object. In such learning we don't give output only the dataset. Understans that the object that are similar are to be grouped together.</p>\n",
    "\n",
    "3. Reinforcement Learning \n",
    "<p>Stick and carrot approch of learnig where a marker and duster is given to the baby to seperate the objects if there is a mistake in placement of duster reprimand(punish) the baby and if not then praise the baby. An agent and enviroment to seperate the input and if done properly then reward otherwise punishment. Done with game bots where death is bad and kill is good. Used with Tesla car. only save state so save only write part.</p>"
   ]
  },
  {
   "cell_type": "markdown",
   "metadata": {},
   "source": [
    "### Machine learning pipeline \n",
    "<img src = 'https://media.licdn.com/dms/image/v2/D4D12AQFTIdT5gkEzOQ/article-cover_image-shrink_423_752/article-cover_image-shrink_423_752/0/1681481399600?e=1734566400&v=beta&t=fktywM7huFyyhizom1TcW_C8PA9Q7bTjSH_06MJ3Tmk'>"
   ]
  },
  {
   "cell_type": "markdown",
   "metadata": {},
   "source": [
    "1. We have data (image classification model) data of dog and cat (gigo) need to be good data\n",
    "2. Need to be good data as dog should contain only dogs and cat should be only cat.\n",
    "3. Image downsize for not powerful comp (B/W the all should be B/W, image size, clarify,pixelate)\n",
    "4. Learn about the data set through pattern. adjust learning rate. Model is tune. Save state of learning. Learn about the data properly. Data shold be proper.\n",
    "5. New image send. to analyze model and validate model with confidence.\n",
    "6. Deploy model.\n",
    "7. General public feedback for the model. and collect data of failed cases.\n",
    "Then again train the model again and optimize the model. Large model needs more of the validation.\n",
    "\n",
    "<p>Inception Architecture - Google</p>\n",
    "<p>Scikt learn - Ml work</p>\n",
    "<p>Tensor Flow - Deep learning</p>\n",
    "<p>Keras - Deep learning</p>"
   ]
  }
 ],
 "metadata": {
  "language_info": {
   "name": "python"
  }
 },
 "nbformat": 4,
 "nbformat_minor": 2
}
