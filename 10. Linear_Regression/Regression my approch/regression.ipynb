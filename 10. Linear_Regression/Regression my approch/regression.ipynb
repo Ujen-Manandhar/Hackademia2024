{
 "cells": [
  {
   "cell_type": "markdown",
   "metadata": {},
   "source": [
    "### Regression \n",
    "<p>What we are doing is from the data of csv file that initally look at corealation among the data. 25 students survey among hours and scores. From the data first we visualize from linear regression model. And see if the data is fitted in model ie if there is a corealtion among the data of hours and score. And predict the average score on the input on the basis of the trend data.</p>"
   ]
  },
  {
   "cell_type": "markdown",
   "metadata": {},
   "source": [
    "<h2 align ='center'>Linear Regression </h2>"
   ]
  },
  {
   "cell_type": "markdown",
   "metadata": {},
   "source": [
    "<p>Needed libaries</p>\n",
    "<ol>\n",
    "    <li>!pip3 install scikit-learn</li>\n",
    "    <li>!pip3 install matplotlib</li>\n",
    "    <li>!pip3 install pandas</li>\n",
    "    <li>!pip3 install numpy</li>\n",
    "    \n",
    "</ol>"
   ]
  },
  {
   "cell_type": "code",
   "execution_count": 1,
   "metadata": {},
   "outputs": [],
   "source": [
    "import pandas as pd\n",
    "import matplotlib.pyplot as plt\n",
    "import numpy as np"
   ]
  },
  {
   "cell_type": "markdown",
   "metadata": {},
   "source": [
    "#### 1. Reading data\n",
    "<p>Initially we read the data, put it on csv file. So we can use it to train the linear regression model.</p>"
   ]
  },
  {
   "cell_type": "code",
   "execution_count": 2,
   "metadata": {},
   "outputs": [
    {
     "data": {
      "text/html": [
       "<div>\n",
       "<style scoped>\n",
       "    .dataframe tbody tr th:only-of-type {\n",
       "        vertical-align: middle;\n",
       "    }\n",
       "\n",
       "    .dataframe tbody tr th {\n",
       "        vertical-align: top;\n",
       "    }\n",
       "\n",
       "    .dataframe thead th {\n",
       "        text-align: right;\n",
       "    }\n",
       "</style>\n",
       "<table border=\"1\" class=\"dataframe\">\n",
       "  <thead>\n",
       "    <tr style=\"text-align: right;\">\n",
       "      <th></th>\n",
       "      <th>Hours</th>\n",
       "      <th>Scores</th>\n",
       "    </tr>\n",
       "  </thead>\n",
       "  <tbody>\n",
       "    <tr>\n",
       "      <th>0</th>\n",
       "      <td>2.5</td>\n",
       "      <td>21</td>\n",
       "    </tr>\n",
       "    <tr>\n",
       "      <th>1</th>\n",
       "      <td>5.1</td>\n",
       "      <td>47</td>\n",
       "    </tr>\n",
       "    <tr>\n",
       "      <th>2</th>\n",
       "      <td>3.2</td>\n",
       "      <td>27</td>\n",
       "    </tr>\n",
       "    <tr>\n",
       "      <th>3</th>\n",
       "      <td>8.5</td>\n",
       "      <td>75</td>\n",
       "    </tr>\n",
       "    <tr>\n",
       "      <th>4</th>\n",
       "      <td>3.5</td>\n",
       "      <td>30</td>\n",
       "    </tr>\n",
       "    <tr>\n",
       "      <th>5</th>\n",
       "      <td>1.5</td>\n",
       "      <td>20</td>\n",
       "    </tr>\n",
       "  </tbody>\n",
       "</table>\n",
       "</div>"
      ],
      "text/plain": [
       "   Hours  Scores\n",
       "0    2.5      21\n",
       "1    5.1      47\n",
       "2    3.2      27\n",
       "3    8.5      75\n",
       "4    3.5      30\n",
       "5    1.5      20"
      ]
     },
     "metadata": {},
     "output_type": "display_data"
    }
   ],
   "source": [
    "data_student_csv = pd.read_csv('Data/student_scores.csv')\n",
    "display(data_student_csv.head(6)) # the display function displays the csv file and head shows top 6 rows."
   ]
  },
  {
   "cell_type": "markdown",
   "metadata": {},
   "source": [
    "#### 2. Visualizing Data (Data preprocessing to find underlying pattern to see the ovious)\n",
    "<p>From our previous session we learn that whenever we have small dimension data 2d -3d data. Rule of thumb is that we should visualize the data to see the underlying pattern on it. Get a better understanding of how the AI model should be made. </p>"
   ]
  },
  {
   "cell_type": "code",
   "execution_count": 5,
   "metadata": {},
   "outputs": [
    {
     "data": {
      "text/plain": [
       "Text(0, 0.5, 'Scores')"
      ]
     },
     "execution_count": 5,
     "metadata": {},
     "output_type": "execute_result"
    },
    {
     "data": {
      "image/png": "[encoded data removed]",
      "text/plain": [
       "<Figure size 640x480 with 1 Axes>"
      ]
     },
     "metadata": {},
     "output_type": "display_data"
    }
   ],
   "source": [
    "X = np.array(data_student_csv['Hours'])\n",
    "Y = np.array(data_student_csv['Scores'])\n",
    "\n",
    "plt.scatter(X,Y)\n",
    "plt.xlabel('Hours') # x we have hours\n",
    "plt.ylabel('Scores') # y we have scores #dependent\n",
    "# figure out the independent and the dependent variable \n",
    "# looking at graph we need to make out what the graph is trying to say; the part should be done before any AI model.\n",
    "# from the graph below we can see a line can be made; data are densly packed and increasing slowely. Directly propotional.\n",
    "# initial digonisis thre is some kind of linear relationship among the data. if hours increase then score increase. \n",
    "# hours is independent in this case of experiment but grades are dependent upon hours."
   ]
  },
  {
   "cell_type": "markdown",
   "metadata": {},
   "source": [
    "#### 3. Understanding Linear regression \n",
    "<p>Least squares method: This type of regression helps to find the best fit line which describes the points. A line that can explain or describe each point. Line of best fit. The sum of errors to make the square of errors less in order to find the line of best fit.</p>\n",
    "<p>Plot the y=mx+c line on the graph<br/> \n",
    "<br/>\n",
    "m = slope/gradient (change detrmine the positive(m = +ve ) or negative(m = -ve) nature of line )<br/>\n",
    "<br/>\n",
    "C= interccept(when x=0 what happes when cordinate is negative or positive, go up and down respectively).<br/>\n",
    "<br/>\n",
    "Slope is know as gradient in AI; Gradiant decent is how much the slope is above or below. <br/>\n",
    "<br/>\n",
    "The line plotted of least square is given by equation y=mx+c<br/>\n",
    "The line kasto hunxa is determined by the gradiant and the coordinate. As X is the value we give an what is plotted in the scatter plot. So if gradiant and intercept is ok then the line is proper.</p>\n",
    "<p>We use the formula to compute m and c using least square method as <br/>\n",
    "So we calculate m and C by:<br/>\n",
    "<br/>\n",
    "by making the list of the numbers and computing it through least square method</p>\n",
    "<img src = 'https://i.sstatic.net/OjlaY.png'>\n",
    "<p>From ploting the data we understand that there is a linear relationship among the data, so to describe the linear relationship we put a line of best fit to explain the pattern. Which might be wrong but this line is explained by y= mx+c</p>"
   ]
  },
  {
   "cell_type": "code",
   "execution_count": 12,
   "metadata": {},
   "outputs": [
    {
     "name": "stdout",
     "output_type": "stream",
     "text": [
      "Gradiant/Slope: 9.775803390787475,Y intercept 2.4836734053731746\n"
     ]
    }
   ],
   "source": [
    "# converting the above formula into code \n",
    "def compute(X,Y):\n",
    "    n = len(X)\n",
    "    X_mean = np.mean(X)\n",
    "    Y_mean = np.mean(Y)\n",
    "    numerator = 0\n",
    "    denominator = 0\n",
    "    # calculation of slope \n",
    "    for i in range(n):\n",
    "        numerator += (X[i]-X_mean)*(Y[i]-Y_mean) #same as above formula \n",
    "        denominator += (X[i]-X_mean)**2 # same as denomitor of slope formula \n",
    "    slope = numerator/denominator # finding slope of hypothecical line \n",
    "\n",
    "    # calculation of intercept\n",
    "    y_intercept = Y_mean - (slope*X_mean)\n",
    "    return slope, y_intercept\n",
    "\n",
    "slope, intercept = compute(X,Y)\n",
    "print(f'Gradiant/Slope: {slope},Y intercept {intercept}')"
   ]
  },
  {
   "cell_type": "markdown",
   "metadata": {},
   "source": [
    "#### 4. Visualize Line of Best fit in the scatter plot\n"
   ]
  },
  {
   "cell_type": "code",
   "execution_count": 20,
   "metadata": {},
   "outputs": [
    {
     "data": {
      "image/png": "[encoded data removed]",
      "text/plain": [
       "<Figure size 640x480 with 1 Axes>"
      ]
     },
     "metadata": {},
     "output_type": "display_data"
    }
   ],
   "source": [
    "# making the line and into an numpy array # the best fit line explains the entire data\n",
    "line_of_best_fit = np.array([(slope * hours) + intercept for hours in X]) #predicting the value of Y # y= mx+c # or y_predict (avg) predicted score\n",
    "# identifying the points of line for the best fit by putting the values of x in equation to identify the therotical(avg) value of Y.\n",
    "# plot the scatter\n",
    "plt.scatter(X,Y) # Y is the ground truth ie the real data \n",
    "# plot the line of bestfit looking at x and the line of bestfit in the old plt plotted X and Y_predict\n",
    "plt.plot(X,line_of_best_fit,color = 'Red')# the plotted line is the predicted line or the bestfit line with the least number of error\n",
    "# the plot function connects the points with respect to x\n",
    "plt.show()"
   ]
  },
  {
   "cell_type": "markdown",
   "metadata": {},
   "source": [
    "#### 5. R square method\n",
    "<p>The R square method helps to identify if the line made by linear regression is able to explain everything or not.</p>\n",
    "<p>It helps identify two things</p>\n",
    "<p>If data is all over the place and scattered then data isn't linear the regression dosen't work; data khatam cha relation isn't there</p>\n",
    "<p>If linear pattern and r square bad then Add more data then the data tends to the average mean reversion gets skew to average; other wise go to a new method of regression like gradiant decent or deep learning method(algo switch). So the list follows </p>\n",
    "<ul>\n",
    "<li>Does a linear pattern exist?</li>\n",
    "<li>Focus upon data and normalization ie increasing data for mean reversion</li>\n",
    "<li>Even fron data scaling dosen't work then swith algo of regression</li>\n",
    "</ul>\n",
    "\n",
    "<ol>\n",
    "    <li>Identify if the m or C we calculated is wrong.</li>\n",
    "    <li>If m and c are plotted right but there is no relation among the data.</li>\n",
    "</ol>\n",
    "<p>R square value is computed to get how well the best fit line justifies the data</p>\n",
    "<img src = 'https://miro.medium.com/v2/resize:fit:1200/1*_mVvAFVEGinHlijmmeWwzg.png'>\n",
    "<ul>\n",
    "    <li>Y[i] = ground truth/ original score ['Scores']</li>\n",
    "    <li>Y[i] hat = predicted value of y as per the regression line of best fit(line of best fit values)</li>\n",
    "    <li>Y[i] mean = mean of ground truth</li>\n",
    "</ul>\n",
    "\n",
    "<p>If the value are similar and R square is 1 the model is overfitted. The formula sees the variation of the ground truth to the predicted value divided by variation of the ground truth to the avg value of y<br/>\n",
    "<br/>\n",
    "The formula is looking at variatio of the ground truth to the predicted value and ground truth to the avg value </b>\n",
    "</b>\n",
    "If R square = 0 then it would mean that predicted value and mean are same then that means the m and c are wrong; ie the avg is only being found so it shows M and C calculated are wrong. ANd there is no relation.</p>\n"
   ]
  },
  {
   "cell_type": "code",
   "execution_count": 23,
   "metadata": {},
   "outputs": [
    {
     "name": "stdout",
     "output_type": "stream",
     "text": [
      "0.9529481969048356\n"
     ]
    }
   ],
   "source": [
    "def r_square(y, y_predict):\n",
    "    n = len(y)\n",
    "    numerator = 0\n",
    "    denominator = 0\n",
    "    y_mean = np.mean(y)\n",
    "    for i in range(n):\n",
    "        numerator += (Y[i]-y_predict[i])**2\n",
    "        denominator += (Y[i]-y_mean)**2\n",
    "    r2 = 1-(numerator/denominator)\n",
    "    return r2\n",
    "\n",
    "r2 = r_square(Y, line_of_best_fit)\n",
    "print(r2)\n",
    "# the value of r square is good there is relation.\n",
    "# if r square is bad then there is no relation.\n",
    "# if many independent variable then compute every one."
   ]
  },
  {
   "cell_type": "markdown",
   "metadata": {},
   "source": [
    "#### 6. Checking Model on unseen data\n",
    "<p>Ler's try a completely unseen daa point, for folowing cases <br/>\n",
    "4, 8, 15 hrs study gets how much marks.</p>"
   ]
  },
  {
   "cell_type": "code",
   "execution_count": 31,
   "metadata": {},
   "outputs": [
    {
     "name": "stdout",
     "output_type": "stream",
     "text": [
      "[ 41.58688697  80.69010053 149.12072427]\n"
     ]
    },
    {
     "data": {
      "image/png": "[encoded data removed]",
      "text/plain": [
       "<Figure size 640x480 with 1 Axes>"
      ]
     },
     "metadata": {},
     "output_type": "display_data"
    }
   ],
   "source": [
    "# linear regression from scratch.\n",
    "new_hrs = np.array([4,8,15])\n",
    "predicted_score = np.array([(slope * hour) + intercept for hour in new_hrs])\n",
    "print(predicted_score)\n",
    "plt.scatter(X,Y)\n",
    "plt.plot(X,line_of_best_fit, color = 'Red')\n",
    "plt.plot(new_hrs, predicted_score, color = 'Green')\n",
    "plt.show()\n",
    "# polinimal = multiple regression calculate every slope of the line of all the data and compute it all indepent variable in single dimension  or PCA\n",
    "# in multiple regression of higher dimension \n",
    "# first compute the corelation for all variables and then see corealation one by one and only choose variable with high correlation are consider and then linear regression among the variable.\n",
    "# in case of X1 X2 X3 X5 more independent variable. 5 dimension linear pattern or can be many more and a pattern may occur "
   ]
  }
 ],
 "metadata": {
  "kernelspec": {
   "display_name": ".venv",
   "language": "python",
   "name": "python3"
  },
  "language_info": {
   "codemirror_mode": {
    "name": "ipython",
    "version": 3
   },
   "file_extension": ".py",
   "mimetype": "text/x-python",
   "name": "python",
   "nbconvert_exporter": "python",
   "pygments_lexer": "ipython3",
   "version": "3.12.4"
  }
 },
 "nbformat": 4,
 "nbformat_minor": 2
}
